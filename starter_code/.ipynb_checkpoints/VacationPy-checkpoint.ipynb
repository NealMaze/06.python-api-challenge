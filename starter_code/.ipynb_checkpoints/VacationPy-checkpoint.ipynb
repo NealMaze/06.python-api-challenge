{
 "cells": [
  {
   "cell_type": "markdown",
   "metadata": {},
   "source": [
    "# VacationPy\n",
    "----\n",
    "\n",
    "#### Note\n",
    "* Keep an eye on your API usage. Use https://developers.google.com/maps/reporting/gmp-reporting as reference for how to monitor your usage and billing.\n",
    "\n",
    "* Instructions have been included for each segment. You do not have to follow them exactly, but they are included to help you think through the steps."
   ]
  },
  {
   "cell_type": "code",
   "execution_count": 2,
   "metadata": {},
   "outputs": [
    {
     "name": "stdout",
     "output_type": "stream",
     "text": [
      "done\n"
     ]
    }
   ],
   "source": [
    "# Dependencies and Setup\n",
    "import matplotlib.pyplot as plt\n",
    "import pandas as pd\n",
    "import numpy as np\n",
    "import requests\n",
    "import gmaps\n",
    "import os\n",
    "import json\n",
    "from winsound import Beep\n",
    "\n",
    "# Import API key\n",
    "from api_keys import g_key as gKey\n",
    "\n",
    "print(\"done\")"
   ]
  },
  {
   "cell_type": "markdown",
   "metadata": {},
   "source": [
    "### Store Part I results into DataFrame\n",
    "* Load the csv exported in Part I to a DataFrame"
   ]
  },
  {
   "cell_type": "code",
   "execution_count": 3,
   "metadata": {},
   "outputs": [
    {
     "data": {
      "text/html": [
       "<div>\n",
       "<style scoped>\n",
       "    .dataframe tbody tr th:only-of-type {\n",
       "        vertical-align: middle;\n",
       "    }\n",
       "\n",
       "    .dataframe tbody tr th {\n",
       "        vertical-align: top;\n",
       "    }\n",
       "\n",
       "    .dataframe thead th {\n",
       "        text-align: right;\n",
       "    }\n",
       "</style>\n",
       "<table border=\"1\" class=\"dataframe\">\n",
       "  <thead>\n",
       "    <tr style=\"text-align: right;\">\n",
       "      <th></th>\n",
       "      <th>Unnamed: 0</th>\n",
       "      <th>City</th>\n",
       "      <th>Cloudiness</th>\n",
       "      <th>Nation</th>\n",
       "      <th>Date</th>\n",
       "      <th>Humidity</th>\n",
       "      <th>Latitude</th>\n",
       "      <th>Longitude</th>\n",
       "      <th>Max Temp</th>\n",
       "      <th>Wind Speed</th>\n",
       "    </tr>\n",
       "  </thead>\n",
       "  <tbody>\n",
       "    <tr>\n",
       "      <th>0</th>\n",
       "      <td>0</td>\n",
       "      <td>khatanga</td>\n",
       "      <td>26</td>\n",
       "      <td>RU</td>\n",
       "      <td>1618859766</td>\n",
       "      <td>100</td>\n",
       "      <td>71.9667</td>\n",
       "      <td>102.5000</td>\n",
       "      <td>-17.59</td>\n",
       "      <td>2.62</td>\n",
       "    </tr>\n",
       "    <tr>\n",
       "      <th>1</th>\n",
       "      <td>1</td>\n",
       "      <td>iqaluit</td>\n",
       "      <td>75</td>\n",
       "      <td>CA</td>\n",
       "      <td>1618859580</td>\n",
       "      <td>79</td>\n",
       "      <td>63.7506</td>\n",
       "      <td>-68.5145</td>\n",
       "      <td>21.20</td>\n",
       "      <td>6.91</td>\n",
       "    </tr>\n",
       "    <tr>\n",
       "      <th>2</th>\n",
       "      <td>2</td>\n",
       "      <td>andenes</td>\n",
       "      <td>0</td>\n",
       "      <td>NO</td>\n",
       "      <td>1618859766</td>\n",
       "      <td>66</td>\n",
       "      <td>69.3143</td>\n",
       "      <td>16.1194</td>\n",
       "      <td>46.40</td>\n",
       "      <td>5.75</td>\n",
       "    </tr>\n",
       "    <tr>\n",
       "      <th>3</th>\n",
       "      <td>3</td>\n",
       "      <td>port alfred</td>\n",
       "      <td>100</td>\n",
       "      <td>ZA</td>\n",
       "      <td>1618859733</td>\n",
       "      <td>81</td>\n",
       "      <td>-7.0349</td>\n",
       "      <td>29.7638</td>\n",
       "      <td>72.45</td>\n",
       "      <td>4.59</td>\n",
       "    </tr>\n",
       "    <tr>\n",
       "      <th>4</th>\n",
       "      <td>4</td>\n",
       "      <td>qaanaaq</td>\n",
       "      <td>100</td>\n",
       "      <td>GL</td>\n",
       "      <td>1618859766</td>\n",
       "      <td>75</td>\n",
       "      <td>77.4840</td>\n",
       "      <td>-69.3632</td>\n",
       "      <td>8.28</td>\n",
       "      <td>7.05</td>\n",
       "    </tr>\n",
       "  </tbody>\n",
       "</table>\n",
       "</div>"
      ],
      "text/plain": [
       "   Unnamed: 0         City  Cloudiness Nation        Date  Humidity  Latitude  \\\n",
       "0           0     khatanga          26     RU  1618859766       100   71.9667   \n",
       "1           1      iqaluit          75     CA  1618859580        79   63.7506   \n",
       "2           2      andenes           0     NO  1618859766        66   69.3143   \n",
       "3           3  port alfred         100     ZA  1618859733        81   -7.0349   \n",
       "4           4      qaanaaq         100     GL  1618859766        75   77.4840   \n",
       "\n",
       "   Longitude  Max Temp  Wind Speed  \n",
       "0   102.5000    -17.59        2.62  \n",
       "1   -68.5145     21.20        6.91  \n",
       "2    16.1194     46.40        5.75  \n",
       "3    29.7638     72.45        4.59  \n",
       "4   -69.3632      8.28        7.05  "
      ]
     },
     "execution_count": 3,
     "metadata": {},
     "output_type": "execute_result"
    }
   ],
   "source": [
    "loadFile = \"../output_data/citiesFinal.csv\"\n",
    "weatherFrame = pd.read_csv(loadFile)\n",
    "weatherFrame.head()\n"
   ]
  },
  {
   "cell_type": "markdown",
   "metadata": {},
   "source": [
    "### Humidity Heatmap\n",
    "* Configure gmaps.\n",
    "* Use the Lat and Lng as locations and Humidity as the weight.\n",
    "* Add Heatmap layer to map."
   ]
  },
  {
   "cell_type": "code",
   "execution_count": 4,
   "metadata": {},
   "outputs": [],
   "source": [
    "gmaps.configure(api_key = gKey)"
   ]
  },
  {
   "cell_type": "code",
   "execution_count": 7,
   "metadata": {},
   "outputs": [
    {
     "data": {
      "application/vnd.jupyter.widget-view+json": {
       "model_id": "47db9fb7f2884f0e8a038054f894c810",
       "version_major": 2,
       "version_minor": 0
      },
      "text/plain": [
       "Figure(layout=FigureLayout(height='420px'))"
      ]
     },
     "metadata": {},
     "output_type": "display_data"
    }
   ],
   "source": [
    "locationsFrame = weatherFrame[[\"Latitude\", \"Longitude\"]]\n",
    "humidityFrame = weatherFrame[\"Humidity\"].astype(float)\n",
    "fig = gmaps.figure()\n",
    "\n",
    "heatmapLayer = gmaps.heatmap_layer(locationsFrame, weights = humidityFrame, dissipating = False,\n",
    "                                    max_intensity = 100, point_radius = 1)\n",
    "\n",
    "fig.add_layer(heatmapLayer)\n",
    "fig"
   ]
  },
  {
   "cell_type": "code",
   "execution_count": null,
   "metadata": {},
   "outputs": [],
   "source": []
  },
  {
   "cell_type": "markdown",
   "metadata": {},
   "source": [
    "### Create new DataFrame fitting weather criteria\n",
    "* Narrow down the cities to fit weather conditions.\n",
    "* Drop any rows will null values."
   ]
  },
  {
   "cell_type": "code",
   "execution_count": 8,
   "metadata": {},
   "outputs": [
    {
     "data": {
      "text/html": [
       "<div>\n",
       "<style scoped>\n",
       "    .dataframe tbody tr th:only-of-type {\n",
       "        vertical-align: middle;\n",
       "    }\n",
       "\n",
       "    .dataframe tbody tr th {\n",
       "        vertical-align: top;\n",
       "    }\n",
       "\n",
       "    .dataframe thead th {\n",
       "        text-align: right;\n",
       "    }\n",
       "</style>\n",
       "<table border=\"1\" class=\"dataframe\">\n",
       "  <thead>\n",
       "    <tr style=\"text-align: right;\">\n",
       "      <th></th>\n",
       "      <th>Unnamed: 0</th>\n",
       "      <th>City</th>\n",
       "      <th>Cloudiness</th>\n",
       "      <th>Nation</th>\n",
       "      <th>Date</th>\n",
       "      <th>Humidity</th>\n",
       "      <th>Latitude</th>\n",
       "      <th>Longitude</th>\n",
       "      <th>Max Temp</th>\n",
       "      <th>Wind Speed</th>\n",
       "    </tr>\n",
       "  </thead>\n",
       "  <tbody>\n",
       "    <tr>\n",
       "      <th>7</th>\n",
       "      <td>7</td>\n",
       "      <td>rikitea</td>\n",
       "      <td>0</td>\n",
       "      <td>PF</td>\n",
       "      <td>1618859739</td>\n",
       "      <td>72</td>\n",
       "      <td>-23.1203</td>\n",
       "      <td>-134.9692</td>\n",
       "      <td>77.94</td>\n",
       "      <td>9.73</td>\n",
       "    </tr>\n",
       "    <tr>\n",
       "      <th>45</th>\n",
       "      <td>45</td>\n",
       "      <td>akyab</td>\n",
       "      <td>0</td>\n",
       "      <td>MM</td>\n",
       "      <td>1618859776</td>\n",
       "      <td>82</td>\n",
       "      <td>20.1500</td>\n",
       "      <td>92.9000</td>\n",
       "      <td>79.47</td>\n",
       "      <td>5.50</td>\n",
       "    </tr>\n",
       "    <tr>\n",
       "      <th>191</th>\n",
       "      <td>191</td>\n",
       "      <td>daud khel</td>\n",
       "      <td>0</td>\n",
       "      <td>PK</td>\n",
       "      <td>1618859997</td>\n",
       "      <td>41</td>\n",
       "      <td>25.3081</td>\n",
       "      <td>62.2336</td>\n",
       "      <td>78.89</td>\n",
       "      <td>9.19</td>\n",
       "    </tr>\n",
       "    <tr>\n",
       "      <th>205</th>\n",
       "      <td>205</td>\n",
       "      <td>tura</td>\n",
       "      <td>0</td>\n",
       "      <td>RU</td>\n",
       "      <td>1618860062</td>\n",
       "      <td>77</td>\n",
       "      <td>25.5198</td>\n",
       "      <td>90.2201</td>\n",
       "      <td>71.33</td>\n",
       "      <td>7.56</td>\n",
       "    </tr>\n",
       "    <tr>\n",
       "      <th>233</th>\n",
       "      <td>233</td>\n",
       "      <td>kutum</td>\n",
       "      <td>0</td>\n",
       "      <td>SD</td>\n",
       "      <td>1618860069</td>\n",
       "      <td>10</td>\n",
       "      <td>14.2000</td>\n",
       "      <td>24.6667</td>\n",
       "      <td>79.52</td>\n",
       "      <td>3.62</td>\n",
       "    </tr>\n",
       "  </tbody>\n",
       "</table>\n",
       "</div>"
      ],
      "text/plain": [
       "     Unnamed: 0       City  Cloudiness Nation        Date  Humidity  Latitude  \\\n",
       "7             7    rikitea           0     PF  1618859739        72  -23.1203   \n",
       "45           45      akyab           0     MM  1618859776        82   20.1500   \n",
       "191         191  daud khel           0     PK  1618859997        41   25.3081   \n",
       "205         205       tura           0     RU  1618860062        77   25.5198   \n",
       "233         233      kutum           0     SD  1618860069        10   14.2000   \n",
       "\n",
       "     Longitude  Max Temp  Wind Speed  \n",
       "7    -134.9692     77.94        9.73  \n",
       "45     92.9000     79.47        5.50  \n",
       "191    62.2336     78.89        9.19  \n",
       "205    90.2201     71.33        7.56  \n",
       "233    24.6667     79.52        3.62  "
      ]
     },
     "execution_count": 8,
     "metadata": {},
     "output_type": "execute_result"
    }
   ],
   "source": [
    "narrowCitiesFrame = weatherFrame.loc[(weatherFrame[\"Max Temp\"] > 70) &\n",
    "                                   (weatherFrame[\"Max Temp\"] < 80) &\n",
    "                                   (weatherFrame[\"Wind Speed\"] < 10) &\n",
    "                                   (weatherFrame[\"Cloudiness\"] == 0)]\n",
    "\n",
    "narrowCitiesFrame.head()"
   ]
  },
  {
   "cell_type": "markdown",
   "metadata": {},
   "source": [
    "### Hotel Map\n",
    "* Store into variable named `hotel_df`.\n",
    "* Add a \"Hotel Name\" column to the DataFrame.\n",
    "* Set parameters to search for hotels with 5000 meters.\n",
    "* Hit the Google Places API for each city's coordinates.\n",
    "* Store the first Hotel result into the DataFrame.\n",
    "* Plot markers on top of the heatmap."
   ]
  },
  {
   "cell_type": "code",
   "execution_count": null,
   "metadata": {},
   "outputs": [],
   "source": []
  },
  {
   "cell_type": "code",
   "execution_count": null,
   "metadata": {},
   "outputs": [],
   "source": []
  },
  {
   "cell_type": "code",
   "execution_count": null,
   "metadata": {},
   "outputs": [],
   "source": [
    "# NOTE: Do not change any of the code in this cell\n",
    "\n",
    "# Using the template add the hotel marks to the heatmap\n",
    "info_box_template = \"\"\"\n",
    "<dl>\n",
    "<dt>Name</dt><dd>{Hotel Name}</dd>\n",
    "<dt>City</dt><dd>{City}</dd>\n",
    "<dt>Country</dt><dd>{Country}</dd>\n",
    "</dl>\n",
    "\"\"\"\n",
    "# Store the DataFrame Row\n",
    "# NOTE: be sure to update with your DataFrame name\n",
    "hotel_info = [info_box_template.format(**row) for index, row in hotel_df.iterrows()]\n",
    "locations = hotel_df[[\"Lat\", \"Lng\"]]"
   ]
  },
  {
   "cell_type": "code",
   "execution_count": null,
   "metadata": {},
   "outputs": [],
   "source": [
    "# Add marker layer ontop of heat map\n",
    "\n",
    "\n",
    "# Display figure\n"
   ]
  },
  {
   "cell_type": "code",
   "execution_count": null,
   "metadata": {},
   "outputs": [],
   "source": []
  }
 ],
 "metadata": {
  "kernelspec": {
   "display_name": "Python 3",
   "language": "python",
   "name": "python3"
  },
  "language_info": {
   "codemirror_mode": {
    "name": "ipython",
    "version": 3
   },
   "file_extension": ".py",
   "mimetype": "text/x-python",
   "name": "python",
   "nbconvert_exporter": "python",
   "pygments_lexer": "ipython3",
   "version": "3.8.5"
  },
  "latex_envs": {
   "LaTeX_envs_menu_present": true,
   "autoclose": false,
   "autocomplete": true,
   "bibliofile": "biblio.bib",
   "cite_by": "apalike",
   "current_citInitial": 1,
   "eqLabelWithNumbers": true,
   "eqNumInitial": 1,
   "hotkeys": {
    "equation": "Ctrl-E",
    "itemize": "Ctrl-I"
   },
   "labels_anchors": false,
   "latex_user_defs": false,
   "report_style_numbering": false,
   "user_envs_cfg": false
  }
 },
 "nbformat": 4,
 "nbformat_minor": 4
}
