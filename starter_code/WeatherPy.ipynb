{
 "cells": [
  {
   "cell_type": "markdown",
   "metadata": {},
   "source": [
    "# WeatherPy\n",
    "----\n",
    "\n",
    "#### Note\n",
    "* Instructions have been included for each segment. You do not have to follow them exactly, but they are included to help you think through the steps."
   ]
  },
  {
   "cell_type": "code",
   "execution_count": 36,
   "metadata": {
    "scrolled": true
   },
   "outputs": [
    {
     "name": "stdout",
     "output_type": "stream",
     "text": [
      "0177f35c8f92d24e465dedcf1d6022b6\n"
     ]
    }
   ],
   "source": [
    "# Dependencies and Setup\n",
    "import matplotlib.pyplot as plt\n",
    "import pandas as pd\n",
    "import numpy as np\n",
    "import scipy.stats as st\n",
    "import requests\n",
    "import time\n",
    "from winsound import Beep\n",
    "\n",
    "\n",
    "# Import API key\n",
    "from api_keys import *\n",
    "\n",
    "# Incorporated citipy to determine city based on latitude and longitude\n",
    "from citipy import citipy\n",
    "\n",
    "# Output File (CSV)\n",
    "outputDataFile = \"../output_data/\"\n",
    "apiKey = weather_api_key\n",
    "\n",
    "# Range of latitudes and longitudes\n",
    "latRange = (-90, 90)\n",
    "longRange = (-180, 180)\\\n",
    "\n",
    "frequency = 500\n",
    "duration = 300\n",
    "\n",
    "print(apiKey)"
   ]
  },
  {
   "cell_type": "markdown",
   "metadata": {},
   "source": [
    "## Generate Cities List"
   ]
  },
  {
   "cell_type": "code",
   "execution_count": 3,
   "metadata": {},
   "outputs": [
    {
     "name": "stdout",
     "output_type": "stream",
     "text": [
      "601\n",
      "601\n"
     ]
    }
   ],
   "source": [
    "# List for holding lat_lngs and cities\n",
    "latLongs = []\n",
    "cities = []\n",
    "nations = []\n",
    "\n",
    "# Create a set of random lat and lng combinations\n",
    "lats = np.random.uniform(latRange[0], latRange[1], size=1500)\n",
    "longs = np.random.uniform(longRange[0], longRange[1], size=1500)\n",
    "latLongs = zip(lats, longs)\n",
    "\n",
    "# Identify nearest city for each lat, lng combination\n",
    "for latLong in latLongs:\n",
    "    city = citipy.nearest_city(latLong[0], latLong[1]).city_name\n",
    "    nation = citipy.nearest_city(latLong[0], latLong[1]).country_code\n",
    "    \n",
    "    # If the city is unique, then add it to a our cities list\n",
    "    if city not in cities:\n",
    "        cities.append(city)\n",
    "        nations.append(nation.upper())\n",
    "\n",
    "# Print the city count to confirm sufficient count\n",
    "print(len(cities))\n",
    "print(len(nations))"
   ]
  },
  {
   "cell_type": "code",
   "execution_count": null,
   "metadata": {},
   "outputs": [],
   "source": [
    "\n"
   ]
  },
  {
   "cell_type": "markdown",
   "metadata": {},
   "source": [
    "### Perform API Calls\n",
    "* Perform a weather check on each city using a series of successive API calls.\n",
    "* Include a print log of each city as it'sbeing processed (with the city number and city name).\n"
   ]
  },
  {
   "cell_type": "code",
   "execution_count": 4,
   "metadata": {
    "scrolled": true
   },
   "outputs": [
    {
     "name": "stdout",
     "output_type": "stream",
     "text": [
      "###################\n",
      " Start API Request \n",
      "###################\n",
      "12\n",
      "21\n",
      "27\n",
      "51\n",
      "64\n",
      "91\n",
      "92\n",
      "102\n",
      "111\n",
      "118\n",
      "120\n",
      "127\n",
      "130\n",
      "134\n",
      "139\n",
      "148\n",
      "185\n",
      "190\n",
      "195\n",
      "197\n",
      "201\n",
      "216\n",
      "218\n",
      "219\n",
      "220\n",
      "240\n",
      "241\n",
      "243\n",
      "253\n",
      "256\n",
      "285\n",
      "308\n",
      "311\n",
      "322\n",
      "331\n",
      "333\n",
      "338\n",
      "350\n",
      "360\n",
      "380\n",
      "389\n",
      "410\n",
      "414\n",
      "442\n",
      "471\n",
      "472\n",
      "475\n",
      "491\n",
      "500\n",
      "502\n",
      "511\n",
      "527\n",
      "531\n",
      "541\n",
      "545\n",
      "547\n",
      "559\n",
      "565\n",
      "576\n",
      "584\n",
      "595\n",
      "######################\n",
      " Complete API Request \n",
      "#######################\n"
     ]
    }
   ],
   "source": [
    "returnCount = 0\n",
    "groupCount = 0\n",
    "cityIndex = 0\n",
    "cloudList = []\n",
    "dateList = []\n",
    "humidityList = []\n",
    "latitudeList = []\n",
    "longitudeList = []\n",
    "maxTempList = []\n",
    "windspeedList = []\n",
    "removeList = []\n",
    "\n",
    "\n",
    "startDeclaration = \"###################\\n Start API Request \\n###################\"\n",
    "endDeclaration = \"######################\\n Complete API Request \\n#######################\"\n",
    "\n",
    "baseUrl = f\"http://api.openweathermap.org/data/2.5/weather?appid={apiKey}&units=imperial&q=\"\n",
    "\n",
    "print(startDeclaration)\n",
    "for city in cities:\n",
    "    \n",
    "    apiReturn = requests.get(baseUrl + city.replace(\" \",\"&\")).json()\n",
    "\n",
    "    try:\n",
    "        # print(f'Processing Weather Data for Record {returnCount} of Group {groupCount} | {apiReturn[\"name\"]}')\n",
    "        \n",
    "        if apiReturn[\"main\"][\"humidity\"] <= 100:\n",
    "            cloudList.append(apiReturn[\"clouds\"][\"all\"])\n",
    "            dateList.append(apiReturn[\"dt\"])\n",
    "            humidityList.append(apiReturn[\"main\"][\"humidity\"])\n",
    "            latitudeList.append(apiReturn[\"coord\"][\"lat\"])\n",
    "            longitudeList.append(apiReturn[\"coord\"][\"lon\"])\n",
    "            maxTempList.append(apiReturn[\"main\"][\"temp_max\"])\n",
    "            windspeedList.append(apiReturn[\"wind\"][\"speed\"])\n",
    "    \n",
    "    except (KeyError, IndexError):\n",
    "        # print(\"City not found....Skipping............\")\n",
    "        removeList.append(cityIndex)\n",
    "        print(removeList[-1])\n",
    "        \n",
    "    if returnCount == 55:\n",
    "        groupCount += 1\n",
    "        returnCount = 0\n",
    "        time.sleep(60)\n",
    "        \n",
    "    returnCount += 1\n",
    "    cityIndex += 1\n",
    "\n",
    "print(endDeclaration)\n",
    "\n",
    "Beep(frequency, duration)\n",
    "time.sleep(1)\n",
    "Beep(frequency, duration)\n",
    "time.sleep(1)\n",
    "Beep(frequency, duration)\n",
    "time.sleep(1)\n",
    "Beep(frequency, duration)\n",
    "time.sleep(1)\n",
    "Beep(frequency, duration)\n",
    "time.sleep(1)\n",
    "Beep(frequency, duration)\n",
    "time.sleep(1)\n",
    "Beep(frequency, duration)\n"
   ]
  },
  {
   "cell_type": "markdown",
   "metadata": {},
   "source": [
    "### Convert Raw Data to DataFrame\n",
    "* Export the city data into a .csv.\n",
    "* Display the DataFrame"
   ]
  },
  {
   "cell_type": "code",
   "execution_count": 5,
   "metadata": {},
   "outputs": [
    {
     "name": "stdout",
     "output_type": "stream",
     "text": [
      "cities count: 601 \n",
      "nations count: 601 \n",
      "clouds count: 540 \n",
      "date count: 540 \n",
      "humidity count: 540 \n",
      "lat count: 540 \n",
      "long count: 540 \n",
      "temp count: 540 \n",
      "wind speed count: 540 \n",
      "\n"
     ]
    }
   ],
   "source": [
    "nuCities = cities\n",
    "nuNations = nations\n",
    "\n",
    "print(\n",
    "    f\"cities count: {len(nuCities)} \\n\"\n",
    "    f\"nations count: {len(nuNations)} \\n\"\n",
    "    f\"clouds count: {len(cloudList)} \\n\"\n",
    "    f\"date count: {len(dateList)} \\n\"\n",
    "    f\"humidity count: {len(humidityList)} \\n\"\n",
    "    f\"lat count: {len(latitudeList)} \\n\"\n",
    "    f\"long count: {len(longitudeList)} \\n\"\n",
    "    f\"temp count: {len(maxTempList)} \\n\"\n",
    "    f\"wind speed count: {len(windspeedList)} \\n\"\n",
    "    )"
   ]
  },
  {
   "cell_type": "code",
   "execution_count": 6,
   "metadata": {},
   "outputs": [
    {
     "name": "stdout",
     "output_type": "stream",
     "text": [
      "cities count: 540 \n",
      "nations count: 540 \n",
      "clouds count: 540 \n",
      "date count: 540 \n",
      "humidity count: 540 \n",
      "lat count: 540 \n",
      "long count: 540 \n",
      "temp count: 540 \n",
      "wind speed count: 540 \n",
      "\n"
     ]
    }
   ],
   "source": [
    "removeList.reverse()\n",
    "for item in removeList:\n",
    "    nuCities.pop(item)\n",
    "    nuNations.pop(item)\n",
    "\n",
    "print(\n",
    "    f\"cities count: {len(nuCities)} \\n\"\n",
    "    f\"nations count: {len(nuNations)} \\n\"\n",
    "    f\"clouds count: {len(cloudList)} \\n\"\n",
    "    f\"date count: {len(dateList)} \\n\"\n",
    "    f\"humidity count: {len(humidityList)} \\n\"\n",
    "    f\"lat count: {len(latitudeList)} \\n\"\n",
    "    f\"long count: {len(longitudeList)} \\n\"\n",
    "    f\"temp count: {len(maxTempList)} \\n\"\n",
    "    f\"wind speed count: {len(windspeedList)} \\n\"\n",
    "    )\n",
    "\n"
   ]
  },
  {
   "cell_type": "code",
   "execution_count": 22,
   "metadata": {},
   "outputs": [
    {
     "data": {
      "text/html": [
       "<div>\n",
       "<style scoped>\n",
       "    .dataframe tbody tr th:only-of-type {\n",
       "        vertical-align: middle;\n",
       "    }\n",
       "\n",
       "    .dataframe tbody tr th {\n",
       "        vertical-align: top;\n",
       "    }\n",
       "\n",
       "    .dataframe thead th {\n",
       "        text-align: right;\n",
       "    }\n",
       "</style>\n",
       "<table border=\"1\" class=\"dataframe\">\n",
       "  <thead>\n",
       "    <tr style=\"text-align: right;\">\n",
       "      <th></th>\n",
       "      <th>City</th>\n",
       "      <th>Cloudiness</th>\n",
       "      <th>Nation</th>\n",
       "      <th>Date</th>\n",
       "      <th>Humidity</th>\n",
       "      <th>Latitude</th>\n",
       "      <th>Longitude</th>\n",
       "      <th>Max Temp</th>\n",
       "      <th>Wind Speed</th>\n",
       "    </tr>\n",
       "  </thead>\n",
       "  <tbody>\n",
       "    <tr>\n",
       "      <th>0</th>\n",
       "      <td>numan</td>\n",
       "      <td>81</td>\n",
       "      <td>NG</td>\n",
       "      <td>1618846415</td>\n",
       "      <td>13</td>\n",
       "      <td>9.4667</td>\n",
       "      <td>12.0333</td>\n",
       "      <td>107.26</td>\n",
       "      <td>4.09</td>\n",
       "    </tr>\n",
       "    <tr>\n",
       "      <th>1</th>\n",
       "      <td>mar del plata</td>\n",
       "      <td>40</td>\n",
       "      <td>AR</td>\n",
       "      <td>1618846415</td>\n",
       "      <td>72</td>\n",
       "      <td>43.4002</td>\n",
       "      <td>-4.0094</td>\n",
       "      <td>60.01</td>\n",
       "      <td>8.05</td>\n",
       "    </tr>\n",
       "    <tr>\n",
       "      <th>2</th>\n",
       "      <td>morehead</td>\n",
       "      <td>1</td>\n",
       "      <td>PG</td>\n",
       "      <td>1618846351</td>\n",
       "      <td>67</td>\n",
       "      <td>37.2711</td>\n",
       "      <td>-87.1764</td>\n",
       "      <td>57.20</td>\n",
       "      <td>3.44</td>\n",
       "    </tr>\n",
       "    <tr>\n",
       "      <th>3</th>\n",
       "      <td>vanimo</td>\n",
       "      <td>100</td>\n",
       "      <td>PG</td>\n",
       "      <td>1618846415</td>\n",
       "      <td>87</td>\n",
       "      <td>-2.6741</td>\n",
       "      <td>141.3028</td>\n",
       "      <td>75.43</td>\n",
       "      <td>3.65</td>\n",
       "    </tr>\n",
       "    <tr>\n",
       "      <th>4</th>\n",
       "      <td>pevek</td>\n",
       "      <td>28</td>\n",
       "      <td>RU</td>\n",
       "      <td>1618846304</td>\n",
       "      <td>94</td>\n",
       "      <td>69.7008</td>\n",
       "      <td>170.3133</td>\n",
       "      <td>1.65</td>\n",
       "      <td>6.11</td>\n",
       "    </tr>\n",
       "  </tbody>\n",
       "</table>\n",
       "</div>"
      ],
      "text/plain": [
       "            City  Cloudiness Nation        Date  Humidity  Latitude  \\\n",
       "0          numan          81     NG  1618846415        13    9.4667   \n",
       "1  mar del plata          40     AR  1618846415        72   43.4002   \n",
       "2       morehead           1     PG  1618846351        67   37.2711   \n",
       "3         vanimo         100     PG  1618846415        87   -2.6741   \n",
       "4          pevek          28     RU  1618846304        94   69.7008   \n",
       "\n",
       "   Longitude  Max Temp  Wind Speed  \n",
       "0    12.0333    107.26        4.09  \n",
       "1    -4.0094     60.01        8.05  \n",
       "2   -87.1764     57.20        3.44  \n",
       "3   141.3028     75.43        3.65  \n",
       "4   170.3133      1.65        6.11  "
      ]
     },
     "execution_count": 22,
     "metadata": {},
     "output_type": "execute_result"
    }
   ],
   "source": [
    "weatherDict = {\n",
    "    \"City\" : nuCities,\n",
    "    \"Cloudiness\" : cloudList,\n",
    "    \"Nation\" : nuNations,\n",
    "    \"Date\" : dateList,\n",
    "    \"Humidity\" : humidityList,\n",
    "    \"Latitude\" : latitudeList,\n",
    "    \"Longitude\" : longitudeList,\n",
    "    \"Max Temp\" : maxTempList,\n",
    "    \"Wind Speed\" : windspeedList\n",
    "}\n",
    "\n",
    "weatherFrame = pd.DataFrame(weatherDict)\n",
    "weatherFrame.to_csv(outputDataFile + \"citiesFinal.csv\")\n",
    "weatherFrame.head()"
   ]
  },
  {
   "cell_type": "code",
   "execution_count": 15,
   "metadata": {},
   "outputs": [
    {
     "data": {
      "text/html": [
       "<div>\n",
       "<style scoped>\n",
       "    .dataframe tbody tr th:only-of-type {\n",
       "        vertical-align: middle;\n",
       "    }\n",
       "\n",
       "    .dataframe tbody tr th {\n",
       "        vertical-align: top;\n",
       "    }\n",
       "\n",
       "    .dataframe thead th {\n",
       "        text-align: right;\n",
       "    }\n",
       "</style>\n",
       "<table border=\"1\" class=\"dataframe\">\n",
       "  <thead>\n",
       "    <tr style=\"text-align: right;\">\n",
       "      <th></th>\n",
       "      <th>City</th>\n",
       "      <th>Cloudiness</th>\n",
       "      <th>Nation</th>\n",
       "      <th>Date</th>\n",
       "      <th>Humidity</th>\n",
       "      <th>Latitude</th>\n",
       "      <th>Longitude</th>\n",
       "      <th>Max Temp</th>\n",
       "      <th>Wind Speed</th>\n",
       "    </tr>\n",
       "  </thead>\n",
       "  <tbody>\n",
       "    <tr>\n",
       "      <th>0</th>\n",
       "      <td>numan</td>\n",
       "      <td>81</td>\n",
       "      <td>NG</td>\n",
       "      <td>1618846415</td>\n",
       "      <td>13</td>\n",
       "      <td>9.4667</td>\n",
       "      <td>12.0333</td>\n",
       "      <td>107.26</td>\n",
       "      <td>4.09</td>\n",
       "    </tr>\n",
       "    <tr>\n",
       "      <th>1</th>\n",
       "      <td>mar del plata</td>\n",
       "      <td>40</td>\n",
       "      <td>AR</td>\n",
       "      <td>1618846415</td>\n",
       "      <td>72</td>\n",
       "      <td>43.4002</td>\n",
       "      <td>-4.0094</td>\n",
       "      <td>60.01</td>\n",
       "      <td>8.05</td>\n",
       "    </tr>\n",
       "    <tr>\n",
       "      <th>2</th>\n",
       "      <td>morehead</td>\n",
       "      <td>1</td>\n",
       "      <td>PG</td>\n",
       "      <td>1618846351</td>\n",
       "      <td>67</td>\n",
       "      <td>37.2711</td>\n",
       "      <td>-87.1764</td>\n",
       "      <td>57.20</td>\n",
       "      <td>3.44</td>\n",
       "    </tr>\n",
       "    <tr>\n",
       "      <th>3</th>\n",
       "      <td>vanimo</td>\n",
       "      <td>100</td>\n",
       "      <td>PG</td>\n",
       "      <td>1618846415</td>\n",
       "      <td>87</td>\n",
       "      <td>-2.6741</td>\n",
       "      <td>141.3028</td>\n",
       "      <td>75.43</td>\n",
       "      <td>3.65</td>\n",
       "    </tr>\n",
       "    <tr>\n",
       "      <th>4</th>\n",
       "      <td>pevek</td>\n",
       "      <td>28</td>\n",
       "      <td>RU</td>\n",
       "      <td>1618846304</td>\n",
       "      <td>94</td>\n",
       "      <td>69.7008</td>\n",
       "      <td>170.3133</td>\n",
       "      <td>1.65</td>\n",
       "      <td>6.11</td>\n",
       "    </tr>\n",
       "  </tbody>\n",
       "</table>\n",
       "</div>"
      ],
      "text/plain": [
       "            City  Cloudiness Nation        Date  Humidity  Latitude  \\\n",
       "0          numan          81     NG  1618846415        13    9.4667   \n",
       "1  mar del plata          40     AR  1618846415        72   43.4002   \n",
       "2       morehead           1     PG  1618846351        67   37.2711   \n",
       "3         vanimo         100     PG  1618846415        87   -2.6741   \n",
       "4          pevek          28     RU  1618846304        94   69.7008   \n",
       "\n",
       "   Longitude  Max Temp  Wind Speed  \n",
       "0    12.0333    107.26        4.09  \n",
       "1    -4.0094     60.01        8.05  \n",
       "2   -87.1764     57.20        3.44  \n",
       "3   141.3028     75.43        3.65  \n",
       "4   170.3133      1.65        6.11  "
      ]
     },
     "execution_count": 15,
     "metadata": {},
     "output_type": "execute_result"
    }
   ],
   "source": [
    "nuWeatherFrame = weatherFrame\n",
    "nuWeatherFrame.head()"
   ]
  },
  {
   "cell_type": "markdown",
   "metadata": {},
   "source": [
    "## Inspect the data and remove the cities where the humidity > 100%.\n",
    "----\n",
    "Skip this step if there are no cities that have humidity > 100%. "
   ]
  },
  {
   "cell_type": "code",
   "execution_count": 11,
   "metadata": {},
   "outputs": [
    {
     "data": {
      "text/html": [
       "<div>\n",
       "<style scoped>\n",
       "    .dataframe tbody tr th:only-of-type {\n",
       "        vertical-align: middle;\n",
       "    }\n",
       "\n",
       "    .dataframe tbody tr th {\n",
       "        vertical-align: top;\n",
       "    }\n",
       "\n",
       "    .dataframe thead th {\n",
       "        text-align: right;\n",
       "    }\n",
       "</style>\n",
       "<table border=\"1\" class=\"dataframe\">\n",
       "  <thead>\n",
       "    <tr style=\"text-align: right;\">\n",
       "      <th></th>\n",
       "      <th>Cloudiness</th>\n",
       "      <th>Date</th>\n",
       "      <th>Humidity</th>\n",
       "      <th>Latitude</th>\n",
       "      <th>Longitude</th>\n",
       "      <th>Max Temp</th>\n",
       "      <th>Wind Speed</th>\n",
       "    </tr>\n",
       "  </thead>\n",
       "  <tbody>\n",
       "    <tr>\n",
       "      <th>count</th>\n",
       "      <td>540.000000</td>\n",
       "      <td>5.400000e+02</td>\n",
       "      <td>540.000000</td>\n",
       "      <td>540.000000</td>\n",
       "      <td>540.000000</td>\n",
       "      <td>540.000000</td>\n",
       "      <td>540.000000</td>\n",
       "    </tr>\n",
       "    <tr>\n",
       "      <th>mean</th>\n",
       "      <td>53.394444</td>\n",
       "      <td>1.618847e+09</td>\n",
       "      <td>62.950000</td>\n",
       "      <td>21.610511</td>\n",
       "      <td>21.765325</td>\n",
       "      <td>62.237870</td>\n",
       "      <td>8.324389</td>\n",
       "    </tr>\n",
       "    <tr>\n",
       "      <th>std</th>\n",
       "      <td>38.158321</td>\n",
       "      <td>2.723015e+02</td>\n",
       "      <td>24.208267</td>\n",
       "      <td>32.497505</td>\n",
       "      <td>86.508644</td>\n",
       "      <td>23.866979</td>\n",
       "      <td>5.456748</td>\n",
       "    </tr>\n",
       "    <tr>\n",
       "      <th>min</th>\n",
       "      <td>0.000000</td>\n",
       "      <td>1.618846e+09</td>\n",
       "      <td>4.000000</td>\n",
       "      <td>-54.800000</td>\n",
       "      <td>-175.200000</td>\n",
       "      <td>-13.450000</td>\n",
       "      <td>0.220000</td>\n",
       "    </tr>\n",
       "    <tr>\n",
       "      <th>25%</th>\n",
       "      <td>19.750000</td>\n",
       "      <td>1.618846e+09</td>\n",
       "      <td>48.000000</td>\n",
       "      <td>-5.783750</td>\n",
       "      <td>-51.255400</td>\n",
       "      <td>48.792500</td>\n",
       "      <td>4.447500</td>\n",
       "    </tr>\n",
       "    <tr>\n",
       "      <th>50%</th>\n",
       "      <td>58.500000</td>\n",
       "      <td>1.618847e+09</td>\n",
       "      <td>67.000000</td>\n",
       "      <td>26.141200</td>\n",
       "      <td>23.709150</td>\n",
       "      <td>66.000000</td>\n",
       "      <td>6.910000</td>\n",
       "    </tr>\n",
       "    <tr>\n",
       "      <th>75%</th>\n",
       "      <td>90.000000</td>\n",
       "      <td>1.618847e+09</td>\n",
       "      <td>82.000000</td>\n",
       "      <td>48.511175</td>\n",
       "      <td>96.459650</td>\n",
       "      <td>80.017500</td>\n",
       "      <td>11.010000</td>\n",
       "    </tr>\n",
       "    <tr>\n",
       "      <th>max</th>\n",
       "      <td>100.000000</td>\n",
       "      <td>1.618847e+09</td>\n",
       "      <td>100.000000</td>\n",
       "      <td>78.218600</td>\n",
       "      <td>178.416700</td>\n",
       "      <td>107.260000</td>\n",
       "      <td>36.820000</td>\n",
       "    </tr>\n",
       "  </tbody>\n",
       "</table>\n",
       "</div>"
      ],
      "text/plain": [
       "       Cloudiness          Date    Humidity    Latitude   Longitude  \\\n",
       "count  540.000000  5.400000e+02  540.000000  540.000000  540.000000   \n",
       "mean    53.394444  1.618847e+09   62.950000   21.610511   21.765325   \n",
       "std     38.158321  2.723015e+02   24.208267   32.497505   86.508644   \n",
       "min      0.000000  1.618846e+09    4.000000  -54.800000 -175.200000   \n",
       "25%     19.750000  1.618846e+09   48.000000   -5.783750  -51.255400   \n",
       "50%     58.500000  1.618847e+09   67.000000   26.141200   23.709150   \n",
       "75%     90.000000  1.618847e+09   82.000000   48.511175   96.459650   \n",
       "max    100.000000  1.618847e+09  100.000000   78.218600  178.416700   \n",
       "\n",
       "         Max Temp  Wind Speed  \n",
       "count  540.000000  540.000000  \n",
       "mean    62.237870    8.324389  \n",
       "std     23.866979    5.456748  \n",
       "min    -13.450000    0.220000  \n",
       "25%     48.792500    4.447500  \n",
       "50%     66.000000    6.910000  \n",
       "75%     80.017500   11.010000  \n",
       "max    107.260000   36.820000  "
      ]
     },
     "execution_count": 11,
     "metadata": {},
     "output_type": "execute_result"
    }
   ],
   "source": [
    "# these data points were removed in the API calls\n",
    "nuWeatherFrame.describe()"
   ]
  },
  {
   "cell_type": "markdown",
   "metadata": {},
   "source": [
    "## Plotting the Data\n",
    "* Use proper labeling of the plots using plot titles (including date of analysis) and axes labels.\n",
    "* Save the plotted figures as .pngs."
   ]
  },
  {
   "cell_type": "markdown",
   "metadata": {},
   "source": [
    "## Latitude vs. Temperature Plot"
   ]
  },
  {
   "cell_type": "code",
   "execution_count": 29,
   "metadata": {
    "scrolled": true
   },
   "outputs": [
    {
     "data": {
      "image/png": "[encoded data removed]",
      "text/plain": [
       "<Figure size 432x288 with 1 Axes>"
      ]
     },
     "metadata": {
      "needs_background": "light"
     },
     "output_type": "display_data"
    }
   ],
   "source": [
    "plt.scatter(nuWeatherFrame[\"Latitude\"], nuWeatherFrame[\"Max Temp\"], edgecolors = \"black\", facecolors = \"green\")\n",
    "plt.grid(b = True, which = \"both\", color = \"grey\")\n",
    "plt.ylabel(\"Max Temp in °F\")\n",
    "plt.xlabel(\"Latitude\")\n",
    "plt.title(\"Latitude vs Humidity\")\n",
    "plt.show()\n",
    "plt.savefig(outputDataFile + \"Fig1.png\")\n"
   ]
  },
  {
   "cell_type": "markdown",
   "metadata": {},
   "source": [
    "## Latitude vs. Humidity Plot"
   ]
  },
  {
   "cell_type": "code",
   "execution_count": 28,
   "metadata": {},
   "outputs": [
    {
     "data": {
      "image/png": "[encoded data removed]",
      "text/plain": [
       "<Figure size 432x288 with 1 Axes>"
      ]
     },
     "metadata": {
      "needs_background": "light"
     },
     "output_type": "display_data"
    }
   ],
   "source": [
    "plt.scatter(nuWeatherFrame[\"Latitude\"], nuWeatherFrame[\"Humidity\"], edgecolors = \"black\", facecolors = \"green\")\n",
    "plt.grid(b = True, which = \"both\", color = \"grey\")\n",
    "plt.ylim(15, 110)\n",
    "plt.ylabel(\"Humidity in %\")\n",
    "plt.xlabel(\"Latitude\")\n",
    "plt.title(\"Latitude vs Humidity\")\n",
    "plt.show()\n",
    "plt.savefig(outputDataFile + \"Fig2.png\")\n"
   ]
  },
  {
   "cell_type": "markdown",
   "metadata": {},
   "source": [
    "## Latitude vs. Cloudiness Plot"
   ]
  },
  {
   "cell_type": "code",
   "execution_count": 31,
   "metadata": {},
   "outputs": [
    {
     "data": {
      "image/png": "[encoded data removed]",
      "text/plain": [
       "<Figure size 432x288 with 1 Axes>"
      ]
     },
     "metadata": {
      "needs_background": "light"
     },
     "output_type": "display_data"
    }
   ],
   "source": [
    "plt.scatter(nuWeatherFrame[\"Latitude\"], nuWeatherFrame[\"Cloudiness\"], edgecolors = \"black\", facecolors = \"green\")\n",
    "plt.grid(b = True, which = \"both\", color = \"grey\")\n",
    "plt.ylabel(\"Cloudiness in %\")\n",
    "plt.xlabel(\"Latitude\")\n",
    "plt.title(\"Latitude vs Cloudiness\")\n",
    "plt.show()\n",
    "plt.savefig(outputDataFile + \"Fig3.png\")\n"
   ]
  },
  {
   "cell_type": "markdown",
   "metadata": {},
   "source": [
    "## Latitude vs. Wind Speed Plot"
   ]
  },
  {
   "cell_type": "code",
   "execution_count": 32,
   "metadata": {},
   "outputs": [
    {
     "data": {
      "image/png": "[encoded data removed]",
      "text/plain": [
       "<Figure size 432x288 with 1 Axes>"
      ]
     },
     "metadata": {
      "needs_background": "light"
     },
     "output_type": "display_data"
    }
   ],
   "source": [
    "plt.scatter(nuWeatherFrame[\"Latitude\"], nuWeatherFrame[\"Wind Speed\"], edgecolors = \"black\", facecolors = \"green\")\n",
    "plt.grid(b = True, which = \"both\", color = \"grey\")\n",
    "plt.ylim(0, 40)\n",
    "plt.ylabel(\"Wind Speed in MPH\")\n",
    "plt.xlabel(\"Latitude\")\n",
    "plt.title(\"Latitude vs Humidity\")\n",
    "plt.show()\n",
    "plt.savefig(outputDataFile + \"Fig4.png\")\n"
   ]
  },
  {
   "cell_type": "markdown",
   "metadata": {},
   "source": [
    "## Linear Regression"
   ]
  },
  {
   "cell_type": "code",
   "execution_count": null,
   "metadata": {},
   "outputs": [],
   "source": []
  },
  {
   "cell_type": "markdown",
   "metadata": {},
   "source": [
    "####  Northern Hemisphere - Max Temp vs. Latitude Linear Regression"
   ]
  },
  {
   "cell_type": "code",
   "execution_count": 42,
   "metadata": {},
   "outputs": [
    {
     "name": "stdout",
     "output_type": "stream",
     "text": [
      "The r-squared is: 0.396\n"
     ]
    },
    {
     "data": {
      "image/png": "[encoded data removed]",
      "text/plain": [
       "<Figure size 432x288 with 1 Axes>"
      ]
     },
     "metadata": {
      "needs_background": "light"
     },
     "output_type": "display_data"
    }
   ],
   "source": [
    "weaFrame = nuWeatherFrame.groupby([\"City\"]).mean() \n",
    "\n",
    "xValues = weaFrame[\"Max Temp\"]\n",
    "yValues = weaFrame[\"Latitude\"]\n",
    "\n",
    "(slope, intercept, rvalue, pvalue, stdrr) = st.linregress(xValues, yValues)\n",
    "regressVal = xValues * slope + intercept\n",
    "\n",
    "line = (f\"y = {round(slope, 2)} x + {round(intercept, 2)}\")\n",
    "\n",
    "plt.scatter(xValues, yValues,color='b')\n",
    "\n",
    "plt.plot(weaFrame[\"Max Temp\"], regressVal, color='red')\n",
    "plt.xlabel(\"Max Temp\")\n",
    "plt.ylabel(\"Latitude\")\n",
    "print(f\"The r-squared is: {round(rvalue**2,3)}\")\n",
    "\n",
    "plt.show()"
   ]
  },
  {
   "cell_type": "markdown",
   "metadata": {},
   "source": [
    "####  Southern Hemisphere - Max Temp vs. Latitude Linear Regression"
   ]
  },
  {
   "cell_type": "code",
   "execution_count": null,
   "metadata": {},
   "outputs": [],
   "source": []
  },
  {
   "cell_type": "markdown",
   "metadata": {},
   "source": [
    "####  Northern Hemisphere - Humidity (%) vs. Latitude Linear Regression"
   ]
  },
  {
   "cell_type": "code",
   "execution_count": null,
   "metadata": {},
   "outputs": [],
   "source": []
  },
  {
   "cell_type": "markdown",
   "metadata": {},
   "source": [
    "####  Southern Hemisphere - Humidity (%) vs. Latitude Linear Regression"
   ]
  },
  {
   "cell_type": "code",
   "execution_count": null,
   "metadata": {},
   "outputs": [],
   "source": []
  },
  {
   "cell_type": "markdown",
   "metadata": {},
   "source": [
    "####  Northern Hemisphere - Cloudiness (%) vs. Latitude Linear Regression"
   ]
  },
  {
   "cell_type": "code",
   "execution_count": null,
   "metadata": {},
   "outputs": [],
   "source": []
  },
  {
   "cell_type": "markdown",
   "metadata": {},
   "source": [
    "####  Southern Hemisphere - Cloudiness (%) vs. Latitude Linear Regression"
   ]
  },
  {
   "cell_type": "code",
   "execution_count": null,
   "metadata": {},
   "outputs": [],
   "source": []
  },
  {
   "cell_type": "markdown",
   "metadata": {},
   "source": [
    "####  Northern Hemisphere - Wind Speed (mph) vs. Latitude Linear Regression"
   ]
  },
  {
   "cell_type": "code",
   "execution_count": null,
   "metadata": {},
   "outputs": [],
   "source": []
  },
  {
   "cell_type": "markdown",
   "metadata": {},
   "source": [
    "####  Southern Hemisphere - Wind Speed (mph) vs. Latitude Linear Regression"
   ]
  },
  {
   "cell_type": "code",
   "execution_count": null,
   "metadata": {},
   "outputs": [],
   "source": []
  },
  {
   "cell_type": "code",
   "execution_count": null,
   "metadata": {},
   "outputs": [],
   "source": []
  }
 ],
 "metadata": {
  "anaconda-cloud": {},
  "kernel_info": {
   "name": "python3"
  },
  "kernelspec": {
   "display_name": "Python 3",
   "language": "python",
   "name": "python3"
  },
  "language_info": {
   "codemirror_mode": {
    "name": "ipython",
    "version": 3
   },
   "file_extension": ".py",
   "mimetype": "text/x-python",
   "name": "python",
   "nbconvert_exporter": "python",
   "pygments_lexer": "ipython3",
   "version": "3.8.5"
  },
  "latex_envs": {
   "LaTeX_envs_menu_present": true,
   "autoclose": false,
   "autocomplete": true,
   "bibliofile": "biblio.bib",
   "cite_by": "apalike",
   "current_citInitial": 1,
   "eqLabelWithNumbers": true,
   "eqNumInitial": 1,
   "hotkeys": {
    "equation": "Ctrl-E",
    "itemize": "Ctrl-I"
   },
   "labels_anchors": false,
   "latex_user_defs": false,
   "report_style_numbering": false,
   "user_envs_cfg": false
  },
  "nteract": {
   "version": "0.12.3"
  }
 },
 "nbformat": 4,
 "nbformat_minor": 2
}
