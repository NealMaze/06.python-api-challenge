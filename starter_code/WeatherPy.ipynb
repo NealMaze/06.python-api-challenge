{
 "cells": [
  {
   "cell_type": "markdown",
   "metadata": {},
   "source": [
    "# WeatherPy\n",
    "----\n",
    "\n",
    "#### Note\n",
    "* Instructions have been included for each segment. You do not have to follow them exactly, but they are included to help you think through the steps."
   ]
  },
  {
   "cell_type": "code",
   "execution_count": 9,
   "metadata": {
    "scrolled": true
   },
   "outputs": [
    {
     "name": "stdout",
     "output_type": "stream",
     "text": [
      "0177f35c8f92d24e465dedcf1d6022b6\n",
      "end\n"
     ]
    }
   ],
   "source": [
    "# Dependencies and Setup\n",
    "import matplotlib.pyplot as plt\n",
    "import pandas as pd\n",
    "import numpy as np\n",
    "import requests\n",
    "import time\n",
    "from winsound import Beep\n",
    "from scipy.stats import linregress\n",
    "\n",
    "# Import API key\n",
    "from api_keys import *\n",
    "\n",
    "# Incorporated citipy to determine city based on latitude and longitude\n",
    "from citipy import citipy\n",
    "\n",
    "# Output File (CSV)\n",
    "outputDataFile = \"../output_data/citiesFinal.csv\"\n",
    "apiKey = weather_api_key\n",
    "\n",
    "# Range of latitudes and longitudes\n",
    "latRange = (-90, 90)\n",
    "longRange = (-180, 180)\\\n",
    "\n",
    "frequency = 500\n",
    "duration = 300\n",
    "\n",
    "print(apiKey)\n",
    "print(\"end\")"
   ]
  },
  {
   "cell_type": "markdown",
   "metadata": {},
   "source": [
    "## Generate Cities List"
   ]
  },
  {
   "cell_type": "code",
   "execution_count": 10,
   "metadata": {},
   "outputs": [
    {
     "name": "stdout",
     "output_type": "stream",
     "text": [
      "631\n",
      "631\n"
     ]
    }
   ],
   "source": [
    "# List for holding lat_lngs and cities\n",
    "latLongs = []\n",
    "cities = []\n",
    "nations = []\n",
    "\n",
    "# Create a set of random lat and lng combinations\n",
    "lats = np.random.uniform(latRange[0], latRange[1], size=1500)\n",
    "longs = np.random.uniform(longRange[0], longRange[1], size=1500)\n",
    "latLongs = zip(lats, longs)\n",
    "\n",
    "# Identify nearest city for each lat, lng combination\n",
    "for latLong in latLongs:\n",
    "    city = citipy.nearest_city(latLong[0], latLong[1]).city_name\n",
    "    nation = citipy.nearest_city(latLong[0], latLong[1]).country_code\n",
    "    \n",
    "    # If the city is unique, then add it to a our cities list\n",
    "    if city not in cities:\n",
    "        cities.append(city)\n",
    "        nations.append(nation.upper())\n",
    "\n",
    "# Print the city count to confirm sufficient count\n",
    "print(len(cities))\n",
    "print(len(nations))"
   ]
  },
  {
   "cell_type": "code",
   "execution_count": null,
   "metadata": {},
   "outputs": [],
   "source": [
    "# citiesDictionary = {\n",
    "#     \"City\" : cities,\n",
    "#     \"Nation\" : nations\n",
    "# }\n"
   ]
  },
  {
   "cell_type": "markdown",
   "metadata": {},
   "source": [
    "### Perform API Calls\n",
    "* Perform a weather check on each city using a series of successive API calls.\n",
    "* Include a print log of each city as it'sbeing processed (with the city number and city name).\n"
   ]
  },
  {
   "cell_type": "code",
   "execution_count": 11,
   "metadata": {
    "scrolled": true
   },
   "outputs": [
    {
     "name": "stdout",
     "output_type": "stream",
     "text": [
      "###################\n",
      " Start API Request \n",
      "###################\n",
      "12\n",
      "15\n",
      "17\n",
      "23\n",
      "24\n",
      "38\n",
      "46\n",
      "61\n",
      "68\n",
      "89\n",
      "91\n",
      "99\n",
      "106\n",
      "110\n",
      "111\n",
      "124\n",
      "149\n",
      "159\n",
      "163\n",
      "171\n",
      "174\n",
      "215\n",
      "240\n",
      "248\n",
      "274\n",
      "282\n",
      "287\n",
      "310\n",
      "313\n",
      "319\n",
      "326\n",
      "380\n",
      "382\n",
      "384\n",
      "389\n",
      "400\n",
      "430\n",
      "439\n",
      "445\n",
      "452\n",
      "458\n",
      "464\n",
      "465\n",
      "468\n",
      "476\n",
      "484\n",
      "490\n",
      "491\n",
      "497\n",
      "510\n",
      "525\n",
      "534\n",
      "539\n",
      "549\n",
      "552\n",
      "554\n",
      "556\n",
      "568\n",
      "576\n",
      "586\n",
      "596\n",
      "609\n",
      "619\n",
      "######################\n",
      " Complete API Request \n",
      "#######################\n"
     ]
    }
   ],
   "source": [
    "returnCount = 0\n",
    "groupCount = 0\n",
    "cityIndex = 0\n",
    "cloudList = []\n",
    "dateList = []\n",
    "humidityList = []\n",
    "latitudeList = []\n",
    "longitudeList = []\n",
    "maxTempList = []\n",
    "windspeedList = []\n",
    "removeList = []\n",
    "\n",
    "\n",
    "startDeclaration = \"###################\\n Start API Request \\n###################\"\n",
    "endDeclaration = \"######################\\n Complete API Request \\n#######################\"\n",
    "\n",
    "baseUrl = f\"http://api.openweathermap.org/data/2.5/weather?appid={apiKey}&units=imperial&q=\"\n",
    "\n",
    "print(startDeclaration)\n",
    "for city in cities:\n",
    "    \n",
    "    apiReturn = requests.get(baseUrl + city.replace(\" \",\"&\")).json()\n",
    "\n",
    "    try:\n",
    "        # print(f'Processing Weather Data for Record {returnCount} of Group {groupCount} | {apiReturn[\"name\"]}')\n",
    "        \n",
    "        if apiReturn[\"main\"][\"humidity\"] <= 100:\n",
    "            cloudList.append(apiReturn[\"clouds\"][\"all\"])\n",
    "            dateList.append(apiReturn[\"dt\"])\n",
    "            humidityList.append(apiReturn[\"main\"][\"humidity\"])\n",
    "            latitudeList.append(apiReturn[\"coord\"][\"lat\"])\n",
    "            longitudeList.append(apiReturn[\"coord\"][\"lon\"])\n",
    "            maxTempList.append(apiReturn[\"main\"][\"temp_max\"])\n",
    "            windspeedList.append(apiReturn[\"wind\"][\"speed\"])\n",
    "    \n",
    "    except (KeyError, IndexError):\n",
    "        # print(\"City not found....Skipping............\")\n",
    "        removeList.append(cityIndex)\n",
    "        print(removeList[-1])\n",
    "        \n",
    "    if returnCount == 55:\n",
    "        groupCount += 1\n",
    "        returnCount = 0\n",
    "        time.sleep(60)\n",
    "        \n",
    "    returnCount += 1\n",
    "    cityIndex += 1\n",
    "\n",
    "print(endDeclaration)\n",
    "\n",
    "Beep(frequency, duration)\n",
    "time.sleep(1)\n",
    "Beep(frequency, duration)\n",
    "time.sleep(1)\n",
    "Beep(frequency, duration)\n",
    "time.sleep(1)\n",
    "Beep(frequency, duration)\n",
    "time.sleep(1)\n",
    "Beep(frequency, duration)\n",
    "time.sleep(1)\n",
    "Beep(frequency, duration)\n",
    "time.sleep(1)\n",
    "Beep(frequency, duration)\n"
   ]
  },
  {
   "cell_type": "markdown",
   "metadata": {},
   "source": [
    "### Convert Raw Data to DataFrame\n",
    "* Export the city data into a .csv.\n",
    "* Display the DataFrame"
   ]
  },
  {
   "cell_type": "code",
   "execution_count": 12,
   "metadata": {},
   "outputs": [
    {
     "name": "stdout",
     "output_type": "stream",
     "text": [
      "cities count: 631 \n",
      "nations count: 631 \n",
      "clouds count: 568 \n",
      "date count: 568 \n",
      "humidity count: 568 \n",
      "lat count: 568 \n",
      "long count: 568 \n",
      "temp count: 568 \n",
      "wind speed count: 568 \n",
      "\n"
     ]
    }
   ],
   "source": [
    "nuCities = cities\n",
    "nuNations = nations\n",
    "\n",
    "print(\n",
    "    f\"cities count: {len(nuCities)} \\n\"\n",
    "    f\"nations count: {len(nuNations)} \\n\"\n",
    "    f\"clouds count: {len(cloudList)} \\n\"\n",
    "    f\"date count: {len(dateList)} \\n\"\n",
    "    f\"humidity count: {len(humidityList)} \\n\"\n",
    "    f\"lat count: {len(latitudeList)} \\n\"\n",
    "    f\"long count: {len(longitudeList)} \\n\"\n",
    "    f\"temp count: {len(maxTempList)} \\n\"\n",
    "    f\"wind speed count: {len(windspeedList)} \\n\"\n",
    "    )"
   ]
  },
  {
   "cell_type": "code",
   "execution_count": 13,
   "metadata": {},
   "outputs": [
    {
     "name": "stdout",
     "output_type": "stream",
     "text": [
      "cities count: 568 \n",
      "nations count: 568 \n",
      "clouds count: 568 \n",
      "date count: 568 \n",
      "humidity count: 568 \n",
      "lat count: 568 \n",
      "long count: 568 \n",
      "temp count: 568 \n",
      "wind speed count: 568 \n",
      "\n"
     ]
    }
   ],
   "source": [
    "removeList.reverse()\n",
    "for item in removeList:\n",
    "    nuCities.pop(item)\n",
    "    nuNations.pop(item)\n",
    "\n",
    "print(\n",
    "    f\"cities count: {len(nuCities)} \\n\"\n",
    "    f\"nations count: {len(nuNations)} \\n\"\n",
    "    f\"clouds count: {len(cloudList)} \\n\"\n",
    "    f\"date count: {len(dateList)} \\n\"\n",
    "    f\"humidity count: {len(humidityList)} \\n\"\n",
    "    f\"lat count: {len(latitudeList)} \\n\"\n",
    "    f\"long count: {len(longitudeList)} \\n\"\n",
    "    f\"temp count: {len(maxTempList)} \\n\"\n",
    "    f\"wind speed count: {len(windspeedList)} \\n\"\n",
    "    )\n",
    "\n"
   ]
  },
  {
   "cell_type": "code",
   "execution_count": 14,
   "metadata": {},
   "outputs": [
    {
     "data": {
      "text/html": [
       "<div>\n",
       "<style scoped>\n",
       "    .dataframe tbody tr th:only-of-type {\n",
       "        vertical-align: middle;\n",
       "    }\n",
       "\n",
       "    .dataframe tbody tr th {\n",
       "        vertical-align: top;\n",
       "    }\n",
       "\n",
       "    .dataframe thead th {\n",
       "        text-align: right;\n",
       "    }\n",
       "</style>\n",
       "<table border=\"1\" class=\"dataframe\">\n",
       "  <thead>\n",
       "    <tr style=\"text-align: right;\">\n",
       "      <th></th>\n",
       "      <th>City</th>\n",
       "      <th>Cloudiness</th>\n",
       "      <th>Nation</th>\n",
       "      <th>Date</th>\n",
       "      <th>Humidity</th>\n",
       "      <th>Latitude</th>\n",
       "      <th>Longitude</th>\n",
       "      <th>Max Temp</th>\n",
       "      <th>Wind Speed</th>\n",
       "    </tr>\n",
       "  </thead>\n",
       "  <tbody>\n",
       "    <tr>\n",
       "      <th>0</th>\n",
       "      <td>butaritari</td>\n",
       "      <td>97</td>\n",
       "      <td>KI</td>\n",
       "      <td>1618741126</td>\n",
       "      <td>76</td>\n",
       "      <td>3.0707</td>\n",
       "      <td>172.7902</td>\n",
       "      <td>82.60</td>\n",
       "      <td>12.46</td>\n",
       "    </tr>\n",
       "    <tr>\n",
       "      <th>1</th>\n",
       "      <td>lompoc</td>\n",
       "      <td>2</td>\n",
       "      <td>US</td>\n",
       "      <td>1618741127</td>\n",
       "      <td>93</td>\n",
       "      <td>34.6391</td>\n",
       "      <td>-120.4579</td>\n",
       "      <td>55.00</td>\n",
       "      <td>3.44</td>\n",
       "    </tr>\n",
       "    <tr>\n",
       "      <th>2</th>\n",
       "      <td>busselton</td>\n",
       "      <td>0</td>\n",
       "      <td>AU</td>\n",
       "      <td>1618741521</td>\n",
       "      <td>59</td>\n",
       "      <td>-33.6500</td>\n",
       "      <td>115.3333</td>\n",
       "      <td>66.99</td>\n",
       "      <td>1.99</td>\n",
       "    </tr>\n",
       "    <tr>\n",
       "      <th>3</th>\n",
       "      <td>coquimbo</td>\n",
       "      <td>90</td>\n",
       "      <td>CL</td>\n",
       "      <td>1618741463</td>\n",
       "      <td>94</td>\n",
       "      <td>-29.9533</td>\n",
       "      <td>-71.3436</td>\n",
       "      <td>55.40</td>\n",
       "      <td>3.44</td>\n",
       "    </tr>\n",
       "    <tr>\n",
       "      <th>4</th>\n",
       "      <td>kapaa</td>\n",
       "      <td>90</td>\n",
       "      <td>US</td>\n",
       "      <td>1618741122</td>\n",
       "      <td>77</td>\n",
       "      <td>22.0752</td>\n",
       "      <td>-159.3190</td>\n",
       "      <td>68.00</td>\n",
       "      <td>5.75</td>\n",
       "    </tr>\n",
       "  </tbody>\n",
       "</table>\n",
       "</div>"
      ],
      "text/plain": [
       "         City  Cloudiness Nation        Date  Humidity  Latitude  Longitude  \\\n",
       "0  butaritari          97     KI  1618741126        76    3.0707   172.7902   \n",
       "1      lompoc           2     US  1618741127        93   34.6391  -120.4579   \n",
       "2   busselton           0     AU  1618741521        59  -33.6500   115.3333   \n",
       "3    coquimbo          90     CL  1618741463        94  -29.9533   -71.3436   \n",
       "4       kapaa          90     US  1618741122        77   22.0752  -159.3190   \n",
       "\n",
       "   Max Temp  Wind Speed  \n",
       "0     82.60       12.46  \n",
       "1     55.00        3.44  \n",
       "2     66.99        1.99  \n",
       "3     55.40        3.44  \n",
       "4     68.00        5.75  "
      ]
     },
     "execution_count": 14,
     "metadata": {},
     "output_type": "execute_result"
    }
   ],
   "source": [
    "weatherDict = {\n",
    "    \"City\" : nuCities,\n",
    "    \"Cloudiness\" : cloudList,\n",
    "    \"Nation\" : nuNations,\n",
    "    \"Date\" : dateList,\n",
    "    \"Humidity\" : humidityList,\n",
    "    \"Latitude\" : latitudeList,\n",
    "    \"Longitude\" : longitudeList,\n",
    "    \"Max Temp\" : maxTempList,\n",
    "    \"Wind Speed\" : windspeedList\n",
    "}\n",
    "\n",
    "weatherFrame = pd.DataFrame(weatherDict)\n",
    "weatherFrame.head()"
   ]
  },
  {
   "cell_type": "code",
   "execution_count": 16,
   "metadata": {},
   "outputs": [
    {
     "data": {
      "text/html": [
       "<div>\n",
       "<style scoped>\n",
       "    .dataframe tbody tr th:only-of-type {\n",
       "        vertical-align: middle;\n",
       "    }\n",
       "\n",
       "    .dataframe tbody tr th {\n",
       "        vertical-align: top;\n",
       "    }\n",
       "\n",
       "    .dataframe thead th {\n",
       "        text-align: right;\n",
       "    }\n",
       "</style>\n",
       "<table border=\"1\" class=\"dataframe\">\n",
       "  <thead>\n",
       "    <tr style=\"text-align: right;\">\n",
       "      <th></th>\n",
       "      <th>Cloudiness</th>\n",
       "      <th>Date</th>\n",
       "      <th>Humidity</th>\n",
       "      <th>Latitude</th>\n",
       "      <th>Longitude</th>\n",
       "      <th>Max Temp</th>\n",
       "      <th>Wind Speed</th>\n",
       "    </tr>\n",
       "  </thead>\n",
       "  <tbody>\n",
       "    <tr>\n",
       "      <th>count</th>\n",
       "      <td>568.000000</td>\n",
       "      <td>5.680000e+02</td>\n",
       "      <td>568.000000</td>\n",
       "      <td>568.000000</td>\n",
       "      <td>568.000000</td>\n",
       "      <td>568.000000</td>\n",
       "      <td>568.000000</td>\n",
       "    </tr>\n",
       "    <tr>\n",
       "      <th>mean</th>\n",
       "      <td>54.547535</td>\n",
       "      <td>1.618742e+09</td>\n",
       "      <td>62.867958</td>\n",
       "      <td>22.065099</td>\n",
       "      <td>15.263077</td>\n",
       "      <td>61.533292</td>\n",
       "      <td>7.913504</td>\n",
       "    </tr>\n",
       "    <tr>\n",
       "      <th>std</th>\n",
       "      <td>39.808287</td>\n",
       "      <td>3.002121e+02</td>\n",
       "      <td>26.381113</td>\n",
       "      <td>32.046746</td>\n",
       "      <td>87.271659</td>\n",
       "      <td>23.179936</td>\n",
       "      <td>5.026902</td>\n",
       "    </tr>\n",
       "    <tr>\n",
       "      <th>min</th>\n",
       "      <td>0.000000</td>\n",
       "      <td>1.618741e+09</td>\n",
       "      <td>4.000000</td>\n",
       "      <td>-54.800000</td>\n",
       "      <td>-179.166700</td>\n",
       "      <td>-1.280000</td>\n",
       "      <td>0.380000</td>\n",
       "    </tr>\n",
       "    <tr>\n",
       "      <th>25%</th>\n",
       "      <td>5.000000</td>\n",
       "      <td>1.618742e+09</td>\n",
       "      <td>44.000000</td>\n",
       "      <td>-4.866800</td>\n",
       "      <td>-59.536000</td>\n",
       "      <td>44.600000</td>\n",
       "      <td>4.225000</td>\n",
       "    </tr>\n",
       "    <tr>\n",
       "      <th>50%</th>\n",
       "      <td>70.500000</td>\n",
       "      <td>1.618742e+09</td>\n",
       "      <td>69.000000</td>\n",
       "      <td>25.290050</td>\n",
       "      <td>19.130550</td>\n",
       "      <td>64.400000</td>\n",
       "      <td>6.910000</td>\n",
       "    </tr>\n",
       "    <tr>\n",
       "      <th>75%</th>\n",
       "      <td>92.250000</td>\n",
       "      <td>1.618742e+09</td>\n",
       "      <td>84.250000</td>\n",
       "      <td>48.474725</td>\n",
       "      <td>80.195250</td>\n",
       "      <td>78.800000</td>\n",
       "      <td>10.570000</td>\n",
       "    </tr>\n",
       "    <tr>\n",
       "      <th>max</th>\n",
       "      <td>100.000000</td>\n",
       "      <td>1.618742e+09</td>\n",
       "      <td>100.000000</td>\n",
       "      <td>78.218600</td>\n",
       "      <td>179.316700</td>\n",
       "      <td>104.630000</td>\n",
       "      <td>31.760000</td>\n",
       "    </tr>\n",
       "  </tbody>\n",
       "</table>\n",
       "</div>"
      ],
      "text/plain": [
       "       Cloudiness          Date    Humidity    Latitude   Longitude  \\\n",
       "count  568.000000  5.680000e+02  568.000000  568.000000  568.000000   \n",
       "mean    54.547535  1.618742e+09   62.867958   22.065099   15.263077   \n",
       "std     39.808287  3.002121e+02   26.381113   32.046746   87.271659   \n",
       "min      0.000000  1.618741e+09    4.000000  -54.800000 -179.166700   \n",
       "25%      5.000000  1.618742e+09   44.000000   -4.866800  -59.536000   \n",
       "50%     70.500000  1.618742e+09   69.000000   25.290050   19.130550   \n",
       "75%     92.250000  1.618742e+09   84.250000   48.474725   80.195250   \n",
       "max    100.000000  1.618742e+09  100.000000   78.218600  179.316700   \n",
       "\n",
       "         Max Temp  Wind Speed  \n",
       "count  568.000000  568.000000  \n",
       "mean    61.533292    7.913504  \n",
       "std     23.179936    5.026902  \n",
       "min     -1.280000    0.380000  \n",
       "25%     44.600000    4.225000  \n",
       "50%     64.400000    6.910000  \n",
       "75%     78.800000   10.570000  \n",
       "max    104.630000   31.760000  "
      ]
     },
     "execution_count": 16,
     "metadata": {},
     "output_type": "execute_result"
    }
   ],
   "source": [
    "nuWeatherFrame = weatherFrame\n",
    "nuWeatherFrame.describe()"
   ]
  },
  {
   "cell_type": "code",
   "execution_count": null,
   "metadata": {},
   "outputs": [],
   "source": []
  },
  {
   "cell_type": "markdown",
   "metadata": {},
   "source": [
    "## Inspect the data and remove the cities where the humidity > 100%.\n",
    "----\n",
    "Skip this step if there are no cities that have humidity > 100%. "
   ]
  },
  {
   "cell_type": "code",
   "execution_count": null,
   "metadata": {},
   "outputs": [],
   "source": [
    "for row in nuWeather(\"index\"):\n",
    "    if nuWeather.loc[row, \"Humidity\"]\n",
    "nuWeather.head(3)"
   ]
  },
  {
   "cell_type": "code",
   "execution_count": null,
   "metadata": {},
   "outputs": [],
   "source": [
    "#  Get the indices of cities that have humidity over 100%.\n"
   ]
  },
  {
   "cell_type": "code",
   "execution_count": null,
   "metadata": {},
   "outputs": [],
   "source": [
    "# Make a new DataFrame equal to the city data to drop all humidity outliers by index.\n",
    "# Passing \"inplace=False\" will make a copy of the city_data DataFrame, which we call \"clean_city_data\".\n"
   ]
  },
  {
   "cell_type": "code",
   "execution_count": null,
   "metadata": {},
   "outputs": [],
   "source": [
    "\n"
   ]
  },
  {
   "cell_type": "markdown",
   "metadata": {},
   "source": [
    "## Plotting the Data\n",
    "* Use proper labeling of the plots using plot titles (including date of analysis) and axes labels.\n",
    "* Save the plotted figures as .pngs."
   ]
  },
  {
   "cell_type": "markdown",
   "metadata": {},
   "source": [
    "## Latitude vs. Temperature Plot"
   ]
  },
  {
   "cell_type": "code",
   "execution_count": null,
   "metadata": {
    "scrolled": true
   },
   "outputs": [],
   "source": []
  },
  {
   "cell_type": "markdown",
   "metadata": {},
   "source": [
    "## Latitude vs. Humidity Plot"
   ]
  },
  {
   "cell_type": "code",
   "execution_count": null,
   "metadata": {},
   "outputs": [],
   "source": []
  },
  {
   "cell_type": "markdown",
   "metadata": {},
   "source": [
    "## Latitude vs. Cloudiness Plot"
   ]
  },
  {
   "cell_type": "code",
   "execution_count": null,
   "metadata": {},
   "outputs": [],
   "source": []
  },
  {
   "cell_type": "markdown",
   "metadata": {},
   "source": [
    "## Latitude vs. Wind Speed Plot"
   ]
  },
  {
   "cell_type": "code",
   "execution_count": null,
   "metadata": {},
   "outputs": [],
   "source": []
  },
  {
   "cell_type": "markdown",
   "metadata": {},
   "source": [
    "## Linear Regression"
   ]
  },
  {
   "cell_type": "code",
   "execution_count": null,
   "metadata": {},
   "outputs": [],
   "source": []
  },
  {
   "cell_type": "markdown",
   "metadata": {},
   "source": [
    "####  Northern Hemisphere - Max Temp vs. Latitude Linear Regression"
   ]
  },
  {
   "cell_type": "code",
   "execution_count": null,
   "metadata": {},
   "outputs": [],
   "source": []
  },
  {
   "cell_type": "markdown",
   "metadata": {},
   "source": [
    "####  Southern Hemisphere - Max Temp vs. Latitude Linear Regression"
   ]
  },
  {
   "cell_type": "code",
   "execution_count": null,
   "metadata": {},
   "outputs": [],
   "source": []
  },
  {
   "cell_type": "markdown",
   "metadata": {},
   "source": [
    "####  Northern Hemisphere - Humidity (%) vs. Latitude Linear Regression"
   ]
  },
  {
   "cell_type": "code",
   "execution_count": null,
   "metadata": {},
   "outputs": [],
   "source": []
  },
  {
   "cell_type": "markdown",
   "metadata": {},
   "source": [
    "####  Southern Hemisphere - Humidity (%) vs. Latitude Linear Regression"
   ]
  },
  {
   "cell_type": "code",
   "execution_count": null,
   "metadata": {},
   "outputs": [],
   "source": []
  },
  {
   "cell_type": "markdown",
   "metadata": {},
   "source": [
    "####  Northern Hemisphere - Cloudiness (%) vs. Latitude Linear Regression"
   ]
  },
  {
   "cell_type": "code",
   "execution_count": null,
   "metadata": {},
   "outputs": [],
   "source": []
  },
  {
   "cell_type": "markdown",
   "metadata": {},
   "source": [
    "####  Southern Hemisphere - Cloudiness (%) vs. Latitude Linear Regression"
   ]
  },
  {
   "cell_type": "code",
   "execution_count": null,
   "metadata": {},
   "outputs": [],
   "source": []
  },
  {
   "cell_type": "markdown",
   "metadata": {},
   "source": [
    "####  Northern Hemisphere - Wind Speed (mph) vs. Latitude Linear Regression"
   ]
  },
  {
   "cell_type": "code",
   "execution_count": null,
   "metadata": {},
   "outputs": [],
   "source": []
  },
  {
   "cell_type": "markdown",
   "metadata": {},
   "source": [
    "####  Southern Hemisphere - Wind Speed (mph) vs. Latitude Linear Regression"
   ]
  },
  {
   "cell_type": "code",
   "execution_count": null,
   "metadata": {},
   "outputs": [],
   "source": []
  },
  {
   "cell_type": "code",
   "execution_count": null,
   "metadata": {},
   "outputs": [],
   "source": []
  }
 ],
 "metadata": {
  "anaconda-cloud": {},
  "kernel_info": {
   "name": "python3"
  },
  "kernelspec": {
   "display_name": "Python 3",
   "language": "python",
   "name": "python3"
  },
  "language_info": {
   "codemirror_mode": {
    "name": "ipython",
    "version": 3
   },
   "file_extension": ".py",
   "mimetype": "text/x-python",
   "name": "python",
   "nbconvert_exporter": "python",
   "pygments_lexer": "ipython3",
   "version": "3.8.5"
  },
  "latex_envs": {
   "LaTeX_envs_menu_present": true,
   "autoclose": false,
   "autocomplete": true,
   "bibliofile": "biblio.bib",
   "cite_by": "apalike",
   "current_citInitial": 1,
   "eqLabelWithNumbers": true,
   "eqNumInitial": 1,
   "hotkeys": {
    "equation": "Ctrl-E",
    "itemize": "Ctrl-I"
   },
   "labels_anchors": false,
   "latex_user_defs": false,
   "report_style_numbering": false,
   "user_envs_cfg": false
  },
  "nteract": {
   "version": "0.12.3"
  }
 },
 "nbformat": 4,
 "nbformat_minor": 2
}
